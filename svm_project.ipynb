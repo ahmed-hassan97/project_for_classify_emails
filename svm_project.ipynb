{
  "nbformat": 4,
  "nbformat_minor": 0,
  "metadata": {
    "colab": {
      "name": "svm_project.ipynb",
      "provenance": [],
      "authorship_tag": "ABX9TyMW7si0qbXK6JKBlGSvISAE",
      "include_colab_link": true
    },
    "kernelspec": {
      "name": "python3",
      "display_name": "Python 3"
    },
    "accelerator": "GPU"
  },
  "cells": [
    {
      "cell_type": "markdown",
      "metadata": {
        "id": "view-in-github",
        "colab_type": "text"
      },
      "source": [
        "<a href=\"https://colab.research.google.com/github/ahmedhassan97/project_for_classify_emails/blob/master/svm_project.ipynb\" target=\"_parent\"><img src=\"https://colab.research.google.com/assets/colab-badge.svg\" alt=\"Open In Colab\"/></a>"
      ]
    },
    {
      "cell_type": "code",
      "metadata": {
        "id": "Qm_E0E7EkiJu",
        "colab_type": "code",
        "colab": {}
      },
      "source": [
        "#imports\n",
        "import pandas as pd\n",
        "import numpy as np\n",
        "import matplotlib as mpl\n",
        "import matplotlib.pyplot as plt\n",
        "import seaborn as sns\n",
        "sns.set_context('notebook')\n",
        "sns.set_style('white')\n",
        "from scipy.io import loadmat\n",
        "from sklearn import svm\n",
        "\n",
        "\n",
        "pd.set_option('display.notebook_repr_html', False)\n",
        "pd.set_option('display.max_columns', None)\n",
        "pd.set_option('display.max_rows', 150)\n",
        "pd.set_option('display.max_seq_items', None)\n",
        "#---------------------------------------------------------\n",
        "# functions\n",
        "def plotData(X, y ,S):\n",
        "  pos = (y == 1).ravel()\n",
        "  neg = (y == 0).ravel()\n",
        "  plt.scatter(X[pos,0], X[pos,1], s=S, c='b', marker='+', linewidths=1)\n",
        "  plt.scatter(X[neg,0], X[neg,1], s=S, c='r', marker='o', linewidths=1)\n",
        "def plot_svc(svc, X, y, h=0.02, pad=0.25):\n",
        "  x_min, x_max = X[:, 0].min()-pad, X[:, 0].max()+pad\n",
        "  y_min, y_max = X[:, 1].min()-pad, X[:, 1].max()+pad\n",
        "  xx, yy = np.meshgrid(np.arange(x_min, x_max, h),\n",
        "  np.arange(y_min, y_max, h))\n",
        "  Z = svc.predict(np.c_[xx.ravel(), yy.ravel()])\n",
        "  Z = Z.reshape(xx.shape)\n",
        "  plt.contourf(xx, yy, Z, cmap=plt.cm.Paired, alpha=0.2)\n",
        "  plotData(X, y,6)\n",
        "  #plt.scatter(X[:,0], X[:,1], s=70, c=y, cmap=mpl.cm.Paired)\n",
        "  # Support vectors indicated in plot by vertical lines\n",
        "  sv = svc.support_vectors_\n",
        "  plt.scatter(sv[:,0], sv[:,1], c='y', marker='|', s=100, linewidths='5')\n",
        "  plt.xlim(x_min, x_max)\n",
        "  plt.ylim(y_min, y_max)\n",
        "  plt.xlabel('X1')\n",
        "  plt.ylabel('X2')\n",
        "  plt.show()\n",
        "  print('Number of support vectors: ', svc.support_.size)"
      ],
      "execution_count": 0,
      "outputs": []
    },
    {
      "cell_type": "code",
      "metadata": {
        "id": "lBTKGdLDl7Tx",
        "colab_type": "code",
        "colab": {
          "base_uri": "https://localhost:8080/",
          "height": 302
        },
        "outputId": "84e78ab8-201f-4844-8048-b654fef3d410"
      },
      "source": [
        "spam_train = loadmat('spamTrain.mat')\n",
        "spam_test = loadmat('spamTest.mat')\n",
        "#print(spam_train)#print(spam_test)\n",
        "X = spam_train['X']\n",
        "Xtest = spam_test['Xtest']\n",
        "y = spam_train['y'].ravel()\n",
        "ytest = spam_test['ytest'].ravel()\n",
        "#\n",
        "\n",
        "print(X.shape, y.shape, Xtest.shape, ytest.shape)\n",
        "#\n",
        "svc = svm.SVC()\n",
        "svc.fit(X, y)\n",
        "# Testing\n",
        "print('Test accuracy = {0}%'.format(np.round(svc.score(Xtest, ytest) * 100, 2)))"
      ],
      "execution_count": 5,
      "outputs": [
        {
          "output_type": "stream",
          "text": [
            "(4000, 1899) (4000,) (1000, 1899) (1000,)\n",
            "Test accuracy = 98.7%\n"
          ],
          "name": "stdout"
        },
        {
          "output_type": "display_data",
          "data": {
            "image/png": "[encoded data removed]",
            "text/plain": [
              "<Figure size 432x288 with 1 Axes>"
            ]
          },
          "metadata": {
            "tags": []
          }
        }
      ]
    }
  ]
}